{
  "cells": [
    {
      "cell_type": "markdown",
      "metadata": {
        "id": "view-in-github",
        "colab_type": "text"
      },
      "source": [
        "<a href=\"https://colab.research.google.com/github/Waltberry/Superhero-Name-Generator-with-TensorFlow/blob/main/Superhero_Name_Generator.ipynb\" target=\"_parent\"><img src=\"https://colab.research.google.com/assets/colab-badge.svg\" alt=\"Open In Colab\"/></a>"
      ]
    },
    {
      "cell_type": "markdown",
      "metadata": {
        "id": "21XXWP7Fpt2L"
      },
      "source": [
        "# Superhero (and Supervillain) Name Generator\n",
        "\n",
        "---\n",
        "\n",
        "[Superhero Names Dataset](https://github.com/am1tyadav/superhero)"
      ]
    },
    {
      "cell_type": "markdown",
      "metadata": {
        "id": "H6P0NU5Cpt2R"
      },
      "source": [
        "## Task 2\n",
        "\n",
        "1. Import the data\n",
        "2. Create a tokenizer\n",
        "3. Char to index and Index to char dictionaries"
      ]
    },
    {
      "cell_type": "code",
      "execution_count": null,
      "metadata": {
        "id": "srULhalZpt2M",
        "colab": {
          "base_uri": "https://localhost:8080/"
        },
        "outputId": "104f2eb5-101a-49de-9fbf-4fad9936d765"
      },
      "outputs": [
        {
          "output_type": "stream",
          "name": "stdout",
          "text": [
            "Cloning into 'superhero'...\n",
            "remote: Enumerating objects: 8, done.\u001b[K\n",
            "remote: Counting objects: 100% (8/8), done.\u001b[K\n",
            "remote: Compressing objects: 100% (7/7), done.\u001b[K\n",
            "remote: Total 8 (delta 0), reused 4 (delta 0), pack-reused 0\u001b[K\n",
            "Unpacking objects: 100% (8/8), done.\n"
          ]
        }
      ],
      "source": [
        "!git clone https://github.com/am1tyadav/superhero"
      ]
    },
    {
      "cell_type": "code",
      "execution_count": null,
      "metadata": {
        "id": "uq4CLmsLpt2P",
        "colab": {
          "base_uri": "https://localhost:8080/",
          "height": 35
        },
        "outputId": "2ae2add4-6f0c-4839-831a-121a8d6ed1c9"
      },
      "outputs": [
        {
          "output_type": "execute_result",
          "data": {
            "application/vnd.google.colaboratory.intrinsic+json": {
              "type": "string"
            },
            "text/plain": [
              "'jumpa\\t\\ndoctor fate\\t\\nstarlight\\t\\nisildur\\t\\nlasher\\t\\nvarvara\\t\\nthe target\\t\\naxel\\t\\nbattra\\t\\nchangeling\\t\\npyrrh'"
            ]
          },
          "metadata": {},
          "execution_count": 3
        }
      ],
      "source": [
        "with open('superhero/superheroes.txt','r') as f:\n",
        "  data = f.read()\n",
        "\n",
        "data[:100] "
      ]
    },
    {
      "cell_type": "code",
      "execution_count": null,
      "metadata": {
        "id": "JqhtLuAHpt2R"
      },
      "outputs": [],
      "source": [
        "import tensorflow as tf"
      ]
    },
    {
      "cell_type": "code",
      "execution_count": null,
      "metadata": {
        "id": "95Lo1Yqzpt2T"
      },
      "outputs": [],
      "source": [
        "tokenizer = tf.keras.preprocessing.text.Tokenizer(\n",
        "    filters='!\"#$%&()*+,-./:;<=>?@[\\\\]^_`{|}~',\n",
        "    split='\\n',\n",
        ")"
      ]
    },
    {
      "cell_type": "code",
      "execution_count": null,
      "metadata": {
        "id": "qYfC4sj2pt2V"
      },
      "outputs": [],
      "source": [
        "tokenizer.fit_on_texts(data)"
      ]
    },
    {
      "cell_type": "code",
      "execution_count": null,
      "metadata": {
        "id": "EO4-dPM6pt2X",
        "colab": {
          "base_uri": "https://localhost:8080/"
        },
        "outputId": "6fafcf15-a803-4f12-af53-44fb74ee50d6"
      },
      "outputs": [
        {
          "output_type": "stream",
          "name": "stdout",
          "text": [
            "{1: '\\t', 2: 'a', 3: 'e', 4: 'r', 5: 'o', 6: 'n', 7: 'i', 8: ' ', 9: 't', 10: 's', 11: 'l', 12: 'm', 13: 'h', 14: 'd', 15: 'c', 16: 'u', 17: 'g', 18: 'k', 19: 'b', 20: 'p', 21: 'y', 22: 'w', 23: 'f', 24: 'v', 25: 'j', 26: 'z', 27: 'x', 28: 'q'}\n"
          ]
        }
      ],
      "source": [
        "char_to_index = tokenizer.word_index\n",
        "index_to_char = dict((v,k) for k,v in char_to_index.items())\n",
        "\n",
        "print(index_to_char)"
      ]
    },
    {
      "cell_type": "markdown",
      "metadata": {
        "id": "SMwtIw_Bpt2Z"
      },
      "source": [
        "## Task 3\n",
        "\n",
        "1. Converting between names and sequences"
      ]
    },
    {
      "cell_type": "code",
      "execution_count": null,
      "metadata": {
        "id": "N7iQLIXzpt2a",
        "colab": {
          "base_uri": "https://localhost:8080/"
        },
        "outputId": "b0839eea-53a2-4aae-cf46-71ca518a90c5"
      },
      "outputs": [
        {
          "output_type": "execute_result",
          "data": {
            "text/plain": [
              "['jumpa\\t',\n",
              " 'doctor fate\\t',\n",
              " 'starlight\\t',\n",
              " 'isildur\\t',\n",
              " 'lasher\\t',\n",
              " 'varvara\\t',\n",
              " 'the target\\t',\n",
              " 'axel\\t',\n",
              " 'battra\\t',\n",
              " 'changeling\\t']"
            ]
          },
          "metadata": {},
          "execution_count": 8
        }
      ],
      "source": [
        "names = data.splitlines()\n",
        "names[:10]"
      ]
    },
    {
      "cell_type": "code",
      "execution_count": null,
      "metadata": {
        "id": "n_-TTfqipt2c",
        "colab": {
          "base_uri": "https://localhost:8080/"
        },
        "outputId": "6bdbc2b3-4432-4a75-d995-64c99c1bb790"
      },
      "outputs": [
        {
          "output_type": "execute_result",
          "data": {
            "text/plain": [
              "[[25], [16], [12], [20], [2], [1]]"
            ]
          },
          "metadata": {},
          "execution_count": 9
        }
      ],
      "source": [
        "tokenizer.texts_to_sequences(names[0])"
      ]
    },
    {
      "cell_type": "code",
      "execution_count": null,
      "metadata": {
        "id": "P6IsKH1Upt2e"
      },
      "outputs": [],
      "source": [
        "def name_to_seq(name):\n",
        "  return [tokenizer.texts_to_sequences(c)[0][0] for c in name]"
      ]
    },
    {
      "cell_type": "code",
      "execution_count": null,
      "metadata": {
        "id": "TuLUiMP3pt2g",
        "colab": {
          "base_uri": "https://localhost:8080/"
        },
        "outputId": "5a9bf2c5-ec97-4fb0-8107-f4f00bdd0a95"
      },
      "outputs": [
        {
          "output_type": "execute_result",
          "data": {
            "text/plain": [
              "[25, 16, 12, 20, 2, 1]"
            ]
          },
          "metadata": {},
          "execution_count": 11
        }
      ],
      "source": [
        "name_to_seq(names[0])"
      ]
    },
    {
      "cell_type": "code",
      "execution_count": null,
      "metadata": {
        "id": "yFUYhimKpt2h"
      },
      "outputs": [],
      "source": [
        "def seq_to_name(seq):\n",
        "  return ''.join([index_to_char[i] for i in seq if i != 0])"
      ]
    },
    {
      "cell_type": "code",
      "execution_count": null,
      "metadata": {
        "id": "ROhCqmhLpt2k",
        "colab": {
          "base_uri": "https://localhost:8080/",
          "height": 35
        },
        "outputId": "9deece60-847b-478c-9e93-c8fc53d7f54b"
      },
      "outputs": [
        {
          "output_type": "execute_result",
          "data": {
            "application/vnd.google.colaboratory.intrinsic+json": {
              "type": "string"
            },
            "text/plain": [
              "'jumpa\\t'"
            ]
          },
          "metadata": {},
          "execution_count": 13
        }
      ],
      "source": [
        "seq_to_name(name_to_seq(names[0]))"
      ]
    },
    {
      "cell_type": "markdown",
      "metadata": {
        "id": "uCbAzsNjpt2m"
      },
      "source": [
        "## Task 4\n",
        "\n",
        "1. Creating sequences\n",
        "2. Padding all sequences"
      ]
    },
    {
      "cell_type": "code",
      "execution_count": null,
      "metadata": {
        "id": "zstNn-0dpt2m"
      },
      "outputs": [],
      "source": [
        "sequences = []\n",
        "\n",
        "for name in names:\n",
        "  seq = name_to_seq(name)\n",
        "  if len(seq) >= 2:\n",
        "    sequences += [seq[:i] for i in range(2, len(seq) + 1)]"
      ]
    },
    {
      "cell_type": "code",
      "execution_count": null,
      "metadata": {
        "id": "BjRTMysvpt2o",
        "colab": {
          "base_uri": "https://localhost:8080/"
        },
        "outputId": "d944750f-398f-4517-8b1f-5d6bcb05bb7b"
      },
      "outputs": [
        {
          "output_type": "execute_result",
          "data": {
            "text/plain": [
              "[[25, 16],\n",
              " [25, 16, 12],\n",
              " [25, 16, 12, 20],\n",
              " [25, 16, 12, 20, 2],\n",
              " [25, 16, 12, 20, 2, 1],\n",
              " [14, 5],\n",
              " [14, 5, 15],\n",
              " [14, 5, 15, 9],\n",
              " [14, 5, 15, 9, 5],\n",
              " [14, 5, 15, 9, 5, 4]]"
            ]
          },
          "metadata": {},
          "execution_count": 15
        }
      ],
      "source": [
        "sequences[:10]"
      ]
    },
    {
      "cell_type": "code",
      "execution_count": null,
      "metadata": {
        "id": "SR68pu2tpt2q",
        "colab": {
          "base_uri": "https://localhost:8080/"
        },
        "outputId": "d4fadf5b-7a6f-4a80-f01e-6dfe5b64172f"
      },
      "outputs": [
        {
          "output_type": "stream",
          "name": "stdout",
          "text": [
            "33\n"
          ]
        }
      ],
      "source": [
        "max_len = max([len(x) for x in sequences])\n",
        "print(max_len)"
      ]
    },
    {
      "cell_type": "code",
      "execution_count": null,
      "metadata": {
        "id": "h_1BtWO7pt2r",
        "colab": {
          "base_uri": "https://localhost:8080/"
        },
        "outputId": "a28fe87c-e7ca-450e-d77a-bc8eb7c7d3fb"
      },
      "outputs": [
        {
          "output_type": "stream",
          "name": "stdout",
          "text": [
            "[ 0  0  0  0  0  0  0  0  0  0  0  0  0  0  0  0  0  0  0  0  0  0  0  0\n",
            "  0  0  0  0  0  0  0 25 16]\n"
          ]
        }
      ],
      "source": [
        "padded_sequences = tf.keras.preprocessing.sequence.pad_sequences(\n",
        "    sequences, padding = 'pre',\n",
        "    maxlen=max_len\n",
        ")\n",
        "\n",
        "print(padded_sequences[0])"
      ]
    },
    {
      "cell_type": "code",
      "execution_count": null,
      "metadata": {
        "id": "sPlrLRpSpt2t",
        "colab": {
          "base_uri": "https://localhost:8080/"
        },
        "outputId": "dbbc9699-a328-485c-9ac7-42780f65d3df"
      },
      "outputs": [
        {
          "output_type": "execute_result",
          "data": {
            "text/plain": [
              "(88279, 33)"
            ]
          },
          "metadata": {},
          "execution_count": 18
        }
      ],
      "source": [
        "padded_sequences.shape"
      ]
    },
    {
      "cell_type": "markdown",
      "metadata": {
        "id": "vatdwD2lxhcJ"
      },
      "source": [
        "## Task 5: Creating Training and Validation Sets\n",
        "\n",
        "1. Creating training and validation sets"
      ]
    },
    {
      "cell_type": "code",
      "execution_count": null,
      "metadata": {
        "id": "BE4BIeSnpt2v",
        "colab": {
          "base_uri": "https://localhost:8080/"
        },
        "outputId": "18459ca9-818b-44ea-de40-0e583413db90"
      },
      "outputs": [
        {
          "output_type": "stream",
          "name": "stdout",
          "text": [
            "(88279, 32) (88279,)\n"
          ]
        }
      ],
      "source": [
        "x, y = padded_sequences[:, :-1], padded_sequences[:, -1]\n",
        "print(x.shape, y.shape)"
      ]
    },
    {
      "cell_type": "code",
      "execution_count": null,
      "metadata": {
        "id": "sAnjLuTHxhcJ",
        "colab": {
          "base_uri": "https://localhost:8080/"
        },
        "outputId": "051260ea-c0b3-412e-8bb6-a8607d98cb1a"
      },
      "outputs": [
        {
          "output_type": "stream",
          "name": "stdout",
          "text": [
            "(66209, 32) (66209,)\n",
            "(22070, 32) (22070,)\n"
          ]
        }
      ],
      "source": [
        "from sklearn.model_selection import train_test_split\n",
        "\n",
        "x_train, x_test, y_train, y_test = train_test_split(x,y)\n",
        "\n",
        "print(x_train.shape, y_train.shape)\n",
        "print(x_test.shape,y_test.shape)"
      ]
    },
    {
      "cell_type": "code",
      "execution_count": null,
      "metadata": {
        "id": "cgqRZtqnpt2x",
        "colab": {
          "base_uri": "https://localhost:8080/"
        },
        "outputId": "9590c5e9-ff37-4ad8-e85d-14335c98ec0c"
      },
      "outputs": [
        {
          "output_type": "stream",
          "name": "stdout",
          "text": [
            "29\n"
          ]
        }
      ],
      "source": [
        "num_chars = len(char_to_index.keys()) + 1\n",
        "print(num_chars)"
      ]
    },
    {
      "cell_type": "markdown",
      "metadata": {
        "id": "BTfUoKe7xhcK"
      },
      "source": [
        "## Task 6: Creating the Model"
      ]
    },
    {
      "cell_type": "code",
      "execution_count": null,
      "metadata": {
        "id": "LFQfwMCfxhcK",
        "colab": {
          "base_uri": "https://localhost:8080/"
        },
        "outputId": "2593d5a4-9be6-43ba-831b-fc8f77c16ae8"
      },
      "outputs": [
        {
          "output_type": "stream",
          "name": "stdout",
          "text": [
            "Model: \"sequential_1\"\n",
            "_________________________________________________________________\n",
            " Layer (type)                Output Shape              Param #   \n",
            "=================================================================\n",
            " embedding_1 (Embedding)     (None, 32, 8)             232       \n",
            "                                                                 \n",
            " conv1d_1 (Conv1D)           (None, 32, 64)            2624      \n",
            "                                                                 \n",
            " max_pooling1d_1 (MaxPooling  (None, 16, 64)           0         \n",
            " 1D)                                                             \n",
            "                                                                 \n",
            " lstm_1 (LSTM)               (None, 32)                12416     \n",
            "                                                                 \n",
            " dense_1 (Dense)             (None, 29)                957       \n",
            "                                                                 \n",
            "=================================================================\n",
            "Total params: 16,229\n",
            "Trainable params: 16,229\n",
            "Non-trainable params: 0\n",
            "_________________________________________________________________\n"
          ]
        }
      ],
      "source": [
        "from tensorflow.keras.models import Sequential\n",
        "from tensorflow.keras.layers import Embedding, Conv1D, MaxPool1D, LSTM, Bidirectional, Dense\n",
        "\n",
        "\n",
        "model = Sequential([\n",
        "                    Embedding(num_chars, 8, input_length = max_len-1 ),\n",
        "                    Conv1D(64, 5, strides=1, activation='tanh', padding='causal'),\n",
        "                    MaxPool1D(2),\n",
        "                    LSTM(32),\n",
        "                    Dense(num_chars, activation='softmax')\n",
        "])\n",
        "\n",
        "model.compile(\n",
        "    loss='sparse_categorical_crossentropy',\n",
        "    optimizer='adam',\n",
        "    metrics=['accuracy']\n",
        ")\n",
        "\n",
        "model.summary()\n"
      ]
    },
    {
      "cell_type": "markdown",
      "metadata": {
        "id": "rXOzlNcmxhcK"
      },
      "source": [
        "## Task 7: Training the Model"
      ]
    },
    {
      "cell_type": "code",
      "execution_count": null,
      "metadata": {
        "id": "j0Ssl4qupt22",
        "colab": {
          "base_uri": "https://localhost:8080/"
        },
        "outputId": "9e7c0fe4-9256-448a-e01d-d6609531aa8b"
      },
      "outputs": [
        {
          "output_type": "stream",
          "name": "stdout",
          "text": [
            "Epoch 1/50\n",
            "2070/2070 - 27s - loss: 2.7697 - accuracy: 0.1807 - val_loss: 2.5973 - val_accuracy: 0.2125 - 27s/epoch - 13ms/step\n",
            "Epoch 2/50\n",
            "2070/2070 - 17s - loss: 2.5433 - accuracy: 0.2356 - val_loss: 2.4884 - val_accuracy: 0.2472 - 17s/epoch - 8ms/step\n",
            "Epoch 3/50\n",
            "2070/2070 - 17s - loss: 2.4659 - accuracy: 0.2586 - val_loss: 2.4360 - val_accuracy: 0.2628 - 17s/epoch - 8ms/step\n",
            "Epoch 4/50\n",
            "2070/2070 - 17s - loss: 2.4204 - accuracy: 0.2701 - val_loss: 2.4039 - val_accuracy: 0.2739 - 17s/epoch - 8ms/step\n",
            "Epoch 5/50\n",
            "2070/2070 - 17s - loss: 2.3859 - accuracy: 0.2788 - val_loss: 2.3755 - val_accuracy: 0.2772 - 17s/epoch - 8ms/step\n",
            "Epoch 6/50\n",
            "2070/2070 - 17s - loss: 2.3560 - accuracy: 0.2862 - val_loss: 2.3530 - val_accuracy: 0.2874 - 17s/epoch - 8ms/step\n",
            "Epoch 7/50\n",
            "2070/2070 - 17s - loss: 2.3283 - accuracy: 0.2948 - val_loss: 2.3378 - val_accuracy: 0.2939 - 17s/epoch - 8ms/step\n",
            "Epoch 8/50\n",
            "2070/2070 - 17s - loss: 2.3041 - accuracy: 0.3031 - val_loss: 2.3193 - val_accuracy: 0.2965 - 17s/epoch - 8ms/step\n",
            "Epoch 9/50\n",
            "2070/2070 - 17s - loss: 2.2813 - accuracy: 0.3091 - val_loss: 2.3039 - val_accuracy: 0.3049 - 17s/epoch - 8ms/step\n",
            "Epoch 10/50\n",
            "2070/2070 - 17s - loss: 2.2608 - accuracy: 0.3129 - val_loss: 2.2970 - val_accuracy: 0.3070 - 17s/epoch - 8ms/step\n",
            "Epoch 11/50\n",
            "2070/2070 - 17s - loss: 2.2416 - accuracy: 0.3204 - val_loss: 2.2871 - val_accuracy: 0.3140 - 17s/epoch - 8ms/step\n",
            "Epoch 12/50\n",
            "2070/2070 - 17s - loss: 2.2244 - accuracy: 0.3254 - val_loss: 2.2698 - val_accuracy: 0.3183 - 17s/epoch - 8ms/step\n",
            "Epoch 13/50\n",
            "2070/2070 - 17s - loss: 2.2075 - accuracy: 0.3317 - val_loss: 2.2602 - val_accuracy: 0.3207 - 17s/epoch - 8ms/step\n",
            "Epoch 14/50\n",
            "2070/2070 - 17s - loss: 2.1922 - accuracy: 0.3369 - val_loss: 2.2567 - val_accuracy: 0.3244 - 17s/epoch - 8ms/step\n",
            "Epoch 15/50\n",
            "2070/2070 - 17s - loss: 2.1780 - accuracy: 0.3422 - val_loss: 2.2507 - val_accuracy: 0.3280 - 17s/epoch - 8ms/step\n",
            "Epoch 16/50\n",
            "2070/2070 - 17s - loss: 2.1653 - accuracy: 0.3460 - val_loss: 2.2449 - val_accuracy: 0.3275 - 17s/epoch - 8ms/step\n",
            "Epoch 17/50\n",
            "2070/2070 - 17s - loss: 2.1524 - accuracy: 0.3505 - val_loss: 2.2385 - val_accuracy: 0.3345 - 17s/epoch - 8ms/step\n",
            "Epoch 18/50\n",
            "2070/2070 - 17s - loss: 2.1406 - accuracy: 0.3532 - val_loss: 2.2334 - val_accuracy: 0.3335 - 17s/epoch - 8ms/step\n",
            "Epoch 19/50\n",
            "2070/2070 - 17s - loss: 2.1304 - accuracy: 0.3577 - val_loss: 2.2338 - val_accuracy: 0.3369 - 17s/epoch - 8ms/step\n",
            "Epoch 20/50\n",
            "2070/2070 - 17s - loss: 2.1202 - accuracy: 0.3594 - val_loss: 2.2264 - val_accuracy: 0.3369 - 17s/epoch - 8ms/step\n",
            "Epoch 21/50\n",
            "2070/2070 - 17s - loss: 2.1104 - accuracy: 0.3631 - val_loss: 2.2265 - val_accuracy: 0.3360 - 17s/epoch - 8ms/step\n",
            "Epoch 22/50\n",
            "2070/2070 - 17s - loss: 2.1023 - accuracy: 0.3664 - val_loss: 2.2212 - val_accuracy: 0.3394 - 17s/epoch - 8ms/step\n",
            "Epoch 23/50\n",
            "2070/2070 - 17s - loss: 2.0931 - accuracy: 0.3700 - val_loss: 2.2189 - val_accuracy: 0.3419 - 17s/epoch - 8ms/step\n",
            "Epoch 24/50\n",
            "2070/2070 - 17s - loss: 2.0846 - accuracy: 0.3720 - val_loss: 2.2119 - val_accuracy: 0.3440 - 17s/epoch - 8ms/step\n",
            "Epoch 25/50\n",
            "2070/2070 - 17s - loss: 2.0763 - accuracy: 0.3744 - val_loss: 2.2110 - val_accuracy: 0.3453 - 17s/epoch - 8ms/step\n",
            "Epoch 26/50\n",
            "2070/2070 - 17s - loss: 2.0691 - accuracy: 0.3774 - val_loss: 2.2160 - val_accuracy: 0.3414 - 17s/epoch - 8ms/step\n",
            "Epoch 27/50\n",
            "2070/2070 - 17s - loss: 2.0617 - accuracy: 0.3789 - val_loss: 2.2086 - val_accuracy: 0.3479 - 17s/epoch - 8ms/step\n",
            "Epoch 28/50\n",
            "2070/2070 - 17s - loss: 2.0545 - accuracy: 0.3830 - val_loss: 2.2160 - val_accuracy: 0.3460 - 17s/epoch - 8ms/step\n",
            "Epoch 29/50\n",
            "2070/2070 - 17s - loss: 2.0474 - accuracy: 0.3832 - val_loss: 2.2150 - val_accuracy: 0.3461 - 17s/epoch - 8ms/step\n",
            "Epoch 30/50\n",
            "2070/2070 - 17s - loss: 2.0411 - accuracy: 0.3861 - val_loss: 2.2086 - val_accuracy: 0.3498 - 17s/epoch - 8ms/step\n",
            "Epoch 31/50\n",
            "2070/2070 - 17s - loss: 2.0361 - accuracy: 0.3886 - val_loss: 2.2088 - val_accuracy: 0.3495 - 17s/epoch - 8ms/step\n",
            "Epoch 32/50\n",
            "2070/2070 - 17s - loss: 2.0291 - accuracy: 0.3906 - val_loss: 2.2048 - val_accuracy: 0.3521 - 17s/epoch - 8ms/step\n",
            "Epoch 33/50\n",
            "2070/2070 - 17s - loss: 2.0235 - accuracy: 0.3924 - val_loss: 2.2072 - val_accuracy: 0.3541 - 17s/epoch - 8ms/step\n",
            "Epoch 34/50\n",
            "2070/2070 - 17s - loss: 2.0190 - accuracy: 0.3946 - val_loss: 2.2055 - val_accuracy: 0.3526 - 17s/epoch - 8ms/step\n",
            "Epoch 35/50\n",
            "2070/2070 - 17s - loss: 2.0145 - accuracy: 0.3956 - val_loss: 2.2051 - val_accuracy: 0.3540 - 17s/epoch - 8ms/step\n",
            "Epoch 36/50\n",
            "2070/2070 - 17s - loss: 2.0087 - accuracy: 0.3974 - val_loss: 2.2051 - val_accuracy: 0.3554 - 17s/epoch - 8ms/step\n",
            "Epoch 37/50\n",
            "2070/2070 - 17s - loss: 2.0040 - accuracy: 0.3981 - val_loss: 2.2010 - val_accuracy: 0.3548 - 17s/epoch - 8ms/step\n",
            "Epoch 38/50\n",
            "2070/2070 - 19s - loss: 2.0000 - accuracy: 0.4002 - val_loss: 2.2032 - val_accuracy: 0.3514 - 19s/epoch - 9ms/step\n",
            "Epoch 39/50\n",
            "2070/2070 - 25s - loss: 1.9949 - accuracy: 0.4026 - val_loss: 2.2082 - val_accuracy: 0.3547 - 25s/epoch - 12ms/step\n"
          ]
        }
      ],
      "source": [
        "h = model.fit(\n",
        "    x_train, y_train,\n",
        "    validation_data=(x_test, y_test),\n",
        "    epochs=50, verbose=2,\n",
        "    callbacks=[\n",
        "               tf.keras.callbacks.EarlyStopping(monitor='val_accuracy', patience=3)\n",
        "    ]\n",
        ")"
      ]
    },
    {
      "cell_type": "code",
      "source": [
        "from matplotlib import pyplot as plt\n",
        "\n",
        "epochs_ran =len(h.history['loss'])\n",
        "\n",
        "plt.plot(range(0, epochs_ran), h.history['val_accuracy'], label='Validation')\n",
        "plt.plot(range(0, epochs_ran), h.history['accuracy'], label='Training')\n",
        "plt.legend()\n",
        "plt.show()\n"
      ],
      "metadata": {
        "colab": {
          "base_uri": "https://localhost:8080/",
          "height": 265
        },
        "id": "tINSLSVSPBc0",
        "outputId": "38509d86-d437-4996-efe4-8802c0c3cab6"
      },
      "execution_count": null,
      "outputs": [
        {
          "output_type": "display_data",
          "data": {
            "image/png": "[encoded data removed]",
            "text/plain": [
              "<Figure size 432x288 with 1 Axes>"
            ]
          },
          "metadata": {
            "needs_background": "light"
          }
        }
      ]
    },
    {
      "cell_type": "markdown",
      "metadata": {
        "id": "ify1BuiWxhcL"
      },
      "source": [
        "## Task 8: Generate Names!"
      ]
    },
    {
      "cell_type": "code",
      "execution_count": null,
      "metadata": {
        "id": "9f50aTRcpt24"
      },
      "outputs": [],
      "source": [
        "\n",
        "def generate_names(seed):\n",
        "  for i in range(0, 40):\n",
        "    seq = name_to_seq(seed)\n",
        "    padded = tf.keras.preprocessing.sequence.pad_sequences([seq], padding='pre', maxlen=max_len-1, truncating='pre')\n",
        "    \n",
        "    pred = model.predict(padded)[0]\n",
        "    pred_char = index_to_char[tf.argmax(pred).numpy()]\n",
        "    seed += pred_char\n",
        "\n",
        "    if pred_char == '\\t':\n",
        "      break\n",
        "  print(seed)\n",
        "\n"
      ]
    },
    {
      "cell_type": "code",
      "execution_count": null,
      "metadata": {
        "id": "faQ0FInlpt26",
        "colab": {
          "base_uri": "https://localhost:8080/"
        },
        "outputId": "bb0309e2-9bc3-4312-9cc6-24e481145095"
      },
      "outputs": [
        {
          "output_type": "stream",
          "name": "stdout",
          "text": [
            "Dark sharl\t\n"
          ]
        }
      ],
      "source": [
        "generate_names('D')"
      ]
    },
    {
      "cell_type": "code",
      "source": [
        ""
      ],
      "metadata": {
        "id": "UVDHOr-3VpNr"
      },
      "execution_count": null,
      "outputs": []
    }
  ],
  "metadata": {
    "colab": {
      "collapsed_sections": [],
      "name": "Superhero Name Generator.ipynb",
      "provenance": [],
      "include_colab_link": true
    },
    "kernelspec": {
      "display_name": "Python 3",
      "language": "python",
      "name": "python3"
    },
    "language_info": {
      "codemirror_mode": {
        "name": "ipython",
        "version": 3
      },
      "file_extension": ".py",
      "mimetype": "text/x-python",
      "name": "python",
      "nbconvert_exporter": "python",
      "pygments_lexer": "ipython3",
      "version": "3.8.3"
    },
    "accelerator": "GPU"
  },
  "nbformat": 4,
  "nbformat_minor": 0
}